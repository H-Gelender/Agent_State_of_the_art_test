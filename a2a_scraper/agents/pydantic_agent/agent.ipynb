{
 "cells": [
  {
   "cell_type": "code",
   "execution_count": null,
   "id": "cf3687cd",
   "metadata": {},
   "outputs": [],
   "source": [
    "from pydantic_ai import Agent\n",
    "from dotenv import load_dotenv\n",
    "import time\n",
    "\n",
    "load_dotenv()\n",
    "\n",
    "llm=\"google-gla:gemini-2.5-flash-lite\"\n",
    "\n",
    "Crawler = Agent(model = llm,\n",
    "        output_type=str,\n",
    "        instructions=None,\n",
    "        system_prompt=\"You are a web crawler.\"\n",
    "        )"
   ]
  },
  {
   "cell_type": "code",
   "execution_count": null,
   "id": "04f4e0bc",
   "metadata": {},
   "outputs": [],
   "source": [
    "from selenium import webdriver\n",
    "from selenium.webdriver.common.by import By\n",
    "from selenium.webdriver.common.keys import Keys\n",
    "from selenium.webdriver.support.ui import WebDriverWait\n",
    "from selenium.webdriver.support import expected_conditions as EC\n",
    "\n",
    "driver = webdriver.Chrome()\n",
    "driver.get(\"http://google.com\")\n",
    "\n",
    "# Créer une instance de WebDriverWait (attendre jusqu'à 10 secondes)\n",
    "wait = WebDriverWait(driver, 25)\n",
    "time.sleep(5)\n",
    "\n",
    "try:\n",
    "    # 1. Attendre que le bouton \"Tout accepter\" soit cliquable et le cliquer\n",
    "    accept_button = wait.until(EC.element_to_be_clickable((By.XPATH, \"//button[contains(., 'Tout accepter')]\")))\n",
    "    time.sleep(5)\n",
    "\n",
    "    accept_button.click()\n",
    "\n",
    "    # 2. Maintenant, attendre que la barre de recherche soit visible\n",
    "    search_bar = wait.until(EC.visibility_of_element_located((By.NAME, \"q\")))\n",
    "    \n",
    "    # 3. Interagir avec la barre de recherche\n",
    "    search_bar.send_keys(\"legifrance\")\n",
    "    search_bar.send_keys(Keys.RETURN)\n",
    "\n",
    "except Exception as e:\n",
    "    print(f\"Une erreur est survenue : {e}\")\n",
    "\n",
    "finally:\n",
    "    # Optionnel : laisser le navigateur ouvert quelques secondes pour voir le résultat\n",
    "    time.sleep(5)\n",
    "    driver.quit()"
   ]
  }
 ],
 "metadata": {
  "kernelspec": {
   "display_name": "a2a_scraper",
   "language": "python",
   "name": "python3"
  },
  "language_info": {
   "codemirror_mode": {
    "name": "ipython",
    "version": 3
   },
   "file_extension": ".py",
   "mimetype": "text/x-python",
   "name": "python",
   "nbconvert_exporter": "python",
   "pygments_lexer": "ipython3",
   "version": "3.12.10"
  }
 },
 "nbformat": 4,
 "nbformat_minor": 5
}
