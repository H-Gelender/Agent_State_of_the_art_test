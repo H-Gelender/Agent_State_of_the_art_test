{
 "cells": [
  {
   "cell_type": "code",
   "execution_count": null,
   "id": "d855e2ec",
   "metadata": {},
   "outputs": [
    {
     "name": "stderr",
     "output_type": "stream",
     "text": [
      "C:\\Users\\henry\\AppData\\Local\\Temp\\ipykernel_19080\\1447682545.py:25: DeprecationWarning: The 'Search.results' method is deprecated, use 'Client.results' instead\n",
      "  for result in search.results():\n"
     ]
    },
    {
     "data": {
      "text/plain": [
       "[ArxivPaper(title='The Rise of Quantum Internet Computing', authors=['Seng W. Loke'], summary='This article highlights quantum Internet computing as referring to\\ndistributed quantum computing over the quantum Internet, analogous to\\n(classical) Internet computing involving (classical) distributed computing over\\nthe (classical) Internet. Relevant to quantum Internet computing would be areas\\nof study such as quantum protocols for distributed nodes using quantum\\ninformation for computations, quantum cloud computing, delegated verifiable\\nblind or private computing, non-local gates, and distributed quantum\\napplications, over Internet-scale distances.', pdf_url='http://arxiv.org/pdf/2208.00733v1'),\n",
       " ArxivPaper(title='Unconventional Quantum Computing Devices', authors=['Seth Lloyd'], summary=\"This paper investigates a variety of unconventional quantum computation\\ndevices, including fermionic quantum computers and computers that exploit\\nnonlinear quantum mechanics. It is shown that unconventional quantum computing\\ndevices can in principle compute some quantities more rapidly than\\n`conventional' quantum computers.\", pdf_url='http://arxiv.org/pdf/quant-ph/0003151v1')]"
      ]
     },
     "execution_count": 8,
     "metadata": {},
     "output_type": "execute_result"
    }
   ],
   "source": [
    "import arxiv\n",
    "from typing import List, Any\n",
    "from pydantic import BaseModel, Field\n",
    "class ArxivPaper(BaseModel):\n",
    "    \"\"\"Represents a paper from the arXiv repository.\"\"\"\n",
    "    title: str = Field(..., description=\"The title of the paper.\")\n",
    "    authors: List[str] = Field(..., description=\"A list of authors of the paper.\")\n",
    "    summary: str = Field(..., description=\"A summary of the paper.\")\n",
    "    pdf_url: str = Field(..., description=\"The URL to the paper on arXiv.\")\n",
    "\n",
    "def arxiv_retriever(query: str, max_results: int = 3) -> List[ArxivPaper]:\n",
    "    \"\"\"\n",
    "    Searches the arXiv repository for scientific papers matching a query\n",
    "    and returns a list of papers with their details.\n",
    "    \"\"\"\n",
    "    try:\n",
    "        # Create a search object with the query and max results.\n",
    "        search = arxiv.Search(\n",
    "            query=query,\n",
    "            max_results=max_results,\n",
    "            sort_by=arxiv.SortCriterion.Relevance\n",
    "        )\n",
    "\n",
    "        papers = []\n",
    "        for result in search.results():\n",
    "            # Extract author names from the list of author objects\n",
    "            result.download_pdf(\"data/pdf/\")\n",
    "            author_names = [author.name for author in result.authors]\n",
    "            \n",
    "            # Create an ArxivPaper instance for each result\n",
    "            papers.append(ArxivPaper(\n",
    "                title=result.title,\n",
    "                authors=author_names,\n",
    "                summary=result.summary,\n",
    "                pdf_url=result.pdf_url\n",
    "            ))\n",
    "        \n",
    "        if not papers:\n",
    "            print(f\"No papers found for query: {query}\")\n",
    "            return []\n",
    "            \n",
    "        return papers\n",
    "\n",
    "    except Exception as e:\n",
    "        print(f\"An error occurred while searching arXiv: {e}\")\n",
    "        return []\n",
    "\n",
    "arxiv_retriever(\"quantum computing\", max_results=2)"
   ]
  },
  {
   "cell_type": "code",
   "execution_count": null,
   "id": "5286b3eb",
   "metadata": {},
   "outputs": [],
   "source": [
    "async def main():\n",
    "    \"\"\"Main function to run the agent.\"\"\"\n",
    "    if not os.getenv(\"OPENAI_API_KEY\"):\n",
    "        print(\"Please set the OPENAI_API_KEY environment variable.\")\n",
    "        return\n",
    "\n",
    "    print(\"Hello! I am an agent that can search for papers on arXiv.\")\n",
    "    print(\"What topic are you interested in today?\")\n",
    "\n",
    "    while True:\n",
    "        try:\n",
    "            user_input = input(\"> \")\n",
    "            if user_input.lower() in [\"exit\", \"quit\"]:\n",
    "                print(\"Goodbye!\")\n",
    "                break\n",
    "            \n",
    "            # Run the agent with the user's query\n",
    "            response = await agent.run(user_input)\n",
    "            print(\"\\nAssistant:\")\n",
    "            print(response)\n",
    "            print(\"\\nWhat else can I help you find?\")\n",
    "\n",
    "        except KeyboardInterrupt:\n",
    "            print(\"\\nGoodbye!\")\n",
    "            break\n",
    "\n",
    "if __name__ == \"__main__\":\n",
    "    import asyncio\n",
    "    asyncio.run(main())"
   ]
  }
 ],
 "metadata": {
  "kernelspec": {
   "display_name": "Agent_State_of_the_art_test",
   "language": "python",
   "name": "python3"
  },
  "language_info": {
   "codemirror_mode": {
    "name": "ipython",
    "version": 3
   },
   "file_extension": ".py",
   "mimetype": "text/x-python",
   "name": "python",
   "nbconvert_exporter": "python",
   "pygments_lexer": "ipython3",
   "version": "3.12.10"
  }
 },
 "nbformat": 4,
 "nbformat_minor": 5
}
